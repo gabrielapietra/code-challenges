{
  "nbformat": 4,
  "nbformat_minor": 0,
  "metadata": {
    "colab": {
      "name": "driva.ipynb",
      "provenance": [],
      "authorship_tag": "ABX9TyN7k7H3vVliNL2mQuX5JsPe",
      "include_colab_link": true
    },
    "kernelspec": {
      "name": "python3",
      "display_name": "Python 3"
    },
    "language_info": {
      "name": "python"
    }
  },
  "cells": [
    {
      "cell_type": "markdown",
      "metadata": {
        "id": "view-in-github",
        "colab_type": "text"
      },
      "source": [
        "<a href=\"https://colab.research.google.com/github/gabrielapietra/python/blob/main/driva.ipynb\" target=\"_parent\"><img src=\"https://colab.research.google.com/assets/colab-badge.svg\" alt=\"Open In Colab\"/></a>"
      ]
    },
    {
      "cell_type": "code",
      "metadata": {
        "id": "SN7k4KLXxw1J"
      },
      "source": [
        "import pandas as pd  "
      ],
      "execution_count": 1,
      "outputs": []
    },
    {
      "cell_type": "code",
      "metadata": {
        "colab": {
          "base_uri": "https://localhost:8080/"
        },
        "id": "iIAD6NHLx6yF",
        "outputId": "f0fa078f-5d88-430f-8fb1-7e1d700d9ccd"
      },
      "source": [
        "from google.colab import drive\n",
        "drive.mount('/content/drive', force_remount=True)"
      ],
      "execution_count": 2,
      "outputs": [
        {
          "output_type": "stream",
          "text": [
            "Mounted at /content/drive\n"
          ],
          "name": "stdout"
        }
      ]
    },
    {
      "cell_type": "code",
      "metadata": {
        "id": "dMJjuVkty1V5"
      },
      "source": [
        "dadosEmpresa = pd.read_csv('/content/drive/My Drive/driva/DadosEmpresa.csv')"
      ],
      "execution_count": 3,
      "outputs": []
    },
    {
      "cell_type": "markdown",
      "metadata": {
        "id": "B4p6aJdIzeoq"
      },
      "source": [
        "Print no terminal as colunas desse arquivo;\n"
      ]
    },
    {
      "cell_type": "code",
      "metadata": {
        "colab": {
          "base_uri": "https://localhost:8080/"
        },
        "id": "ttack46PzESN",
        "outputId": "82b40862-c14d-4b04-f903-a1fcec77d5df"
      },
      "source": [
        "dadosEmpresa.columns"
      ],
      "execution_count": 4,
      "outputs": [
        {
          "output_type": "execute_result",
          "data": {
            "text/plain": [
              "Index(['cnpj', 'raiz_cnpj', 'matriz_filial', 'razao_social',\n",
              "       'opcao_pelo_simples', 'capital_social'],\n",
              "      dtype='object')"
            ]
          },
          "metadata": {
            "tags": []
          },
          "execution_count": 4
        }
      ]
    },
    {
      "cell_type": "markdown",
      "metadata": {
        "id": "RAMjNi4ezUwX"
      },
      "source": [
        "Print no terminal as primeiras linhas desse arquivo;\n"
      ]
    },
    {
      "cell_type": "code",
      "metadata": {
        "colab": {
          "base_uri": "https://localhost:8080/",
          "height": 272
        },
        "id": "5hFQ2r3BzTv6",
        "outputId": "59063685-6dab-4c83-e062-6a945780ccc1"
      },
      "source": [
        "dadosEmpresa.head(5)"
      ],
      "execution_count": 5,
      "outputs": [
        {
          "output_type": "execute_result",
          "data": {
            "text/html": [
              "<div>\n",
              "<style scoped>\n",
              "    .dataframe tbody tr th:only-of-type {\n",
              "        vertical-align: middle;\n",
              "    }\n",
              "\n",
              "    .dataframe tbody tr th {\n",
              "        vertical-align: top;\n",
              "    }\n",
              "\n",
              "    .dataframe thead th {\n",
              "        text-align: right;\n",
              "    }\n",
              "</style>\n",
              "<table border=\"1\" class=\"dataframe\">\n",
              "  <thead>\n",
              "    <tr style=\"text-align: right;\">\n",
              "      <th></th>\n",
              "      <th>cnpj</th>\n",
              "      <th>raiz_cnpj</th>\n",
              "      <th>matriz_filial</th>\n",
              "      <th>razao_social</th>\n",
              "      <th>opcao_pelo_simples</th>\n",
              "      <th>capital_social</th>\n",
              "    </tr>\n",
              "  </thead>\n",
              "  <tbody>\n",
              "    <tr>\n",
              "      <th>0</th>\n",
              "      <td>126195000110</td>\n",
              "      <td>126195</td>\n",
              "      <td>MATRIZ</td>\n",
              "      <td>TRAMA SOFTWARE LTDA</td>\n",
              "      <td>NAO</td>\n",
              "      <td>0</td>\n",
              "    </tr>\n",
              "    <tr>\n",
              "      <th>1</th>\n",
              "      <td>155991000181</td>\n",
              "      <td>155991</td>\n",
              "      <td>MATRIZ</td>\n",
              "      <td>ELEKTI - APOIO A EDUCACAO E FORNECIMENTO DE BO...</td>\n",
              "      <td>NAO</td>\n",
              "      <td>40000</td>\n",
              "    </tr>\n",
              "    <tr>\n",
              "      <th>2</th>\n",
              "      <td>321106000197</td>\n",
              "      <td>321106</td>\n",
              "      <td>MATRIZ</td>\n",
              "      <td>VIRTUAL TECNOLOGIA &amp; SERVICOS LTDA</td>\n",
              "      <td>NAO</td>\n",
              "      <td>5000</td>\n",
              "    </tr>\n",
              "    <tr>\n",
              "      <th>3</th>\n",
              "      <td>358376000172</td>\n",
              "      <td>358376</td>\n",
              "      <td>MATRIZ</td>\n",
              "      <td>SARTOR ASSESSORIA E COMERCIO DE INFORMATICA LTDA</td>\n",
              "      <td>SIM</td>\n",
              "      <td>0</td>\n",
              "    </tr>\n",
              "    <tr>\n",
              "      <th>4</th>\n",
              "      <td>563375000160</td>\n",
              "      <td>563375</td>\n",
              "      <td>MATRIZ</td>\n",
              "      <td>INDEXX INFORMATICA LTDA</td>\n",
              "      <td>SIM</td>\n",
              "      <td>0</td>\n",
              "    </tr>\n",
              "  </tbody>\n",
              "</table>\n",
              "</div>"
            ],
            "text/plain": [
              "           cnpj  raiz_cnpj  ... opcao_pelo_simples capital_social\n",
              "0  126195000110     126195  ...                NAO              0\n",
              "1  155991000181     155991  ...                NAO          40000\n",
              "2  321106000197     321106  ...                NAO           5000\n",
              "3  358376000172     358376  ...                SIM              0\n",
              "4  563375000160     563375  ...                SIM              0\n",
              "\n",
              "[5 rows x 6 columns]"
            ]
          },
          "metadata": {
            "tags": []
          },
          "execution_count": 5
        }
      ]
    },
    {
      "cell_type": "markdown",
      "metadata": {
        "id": "axBZ6KVqz2U6"
      },
      "source": [
        "Print no terminal o total de empresas nesse arquivo que tem a coluna \"opcao_pelo_simples\" com o valor \"SIM\";"
      ]
    },
    {
      "cell_type": "code",
      "metadata": {
        "colab": {
          "base_uri": "https://localhost:8080/"
        },
        "id": "fU6wudRP6b7b",
        "outputId": "77287df2-dbdf-45e5-ef6b-e2c78e571ef2"
      },
      "source": [
        "dadosEmpresa.opcao_pelo_simples.str.count(\"SIM\").sum()"
      ],
      "execution_count": 6,
      "outputs": [
        {
          "output_type": "execute_result",
          "data": {
            "text/plain": [
              "383"
            ]
          },
          "metadata": {
            "tags": []
          },
          "execution_count": 6
        }
      ]
    },
    {
      "cell_type": "markdown",
      "metadata": {
        "id": "FrCwNUN25ziG"
      },
      "source": [
        "Print no terminal a soma do \"capital_social\" de todas as empresas;\n",
        "\n"
      ]
    },
    {
      "cell_type": "code",
      "metadata": {
        "colab": {
          "base_uri": "https://localhost:8080/"
        },
        "id": "H5-KntaQz1te",
        "outputId": "9830b2bc-d141-4d4a-8414-832593be84d2"
      },
      "source": [
        "sum(dadosEmpresa.capital_social)"
      ],
      "execution_count": 7,
      "outputs": [
        {
          "output_type": "execute_result",
          "data": {
            "text/plain": [
              "304313407"
            ]
          },
          "metadata": {
            "tags": []
          },
          "execution_count": 7
        }
      ]
    },
    {
      "cell_type": "markdown",
      "metadata": {
        "id": "jLSnavu-71nK"
      },
      "source": [
        "Print no terminal todas as empresas que tem \"capital_social\" maior que 10.000 e menor que 20.000;\n"
      ]
    },
    {
      "cell_type": "code",
      "metadata": {
        "colab": {
          "base_uri": "https://localhost:8080/",
          "height": 1000
        },
        "id": "8Oy9LPkq72ap",
        "outputId": "eea56856-f378-4ae1-b851-dfa347bc6857"
      },
      "source": [
        "dadosEmpresa.query('capital_social > 10000 and capital_social < 20000')"
      ],
      "execution_count": 8,
      "outputs": [
        {
          "output_type": "execute_result",
          "data": {
            "text/html": [
              "<div>\n",
              "<style scoped>\n",
              "    .dataframe tbody tr th:only-of-type {\n",
              "        vertical-align: middle;\n",
              "    }\n",
              "\n",
              "    .dataframe tbody tr th {\n",
              "        vertical-align: top;\n",
              "    }\n",
              "\n",
              "    .dataframe thead th {\n",
              "        text-align: right;\n",
              "    }\n",
              "</style>\n",
              "<table border=\"1\" class=\"dataframe\">\n",
              "  <thead>\n",
              "    <tr style=\"text-align: right;\">\n",
              "      <th></th>\n",
              "      <th>cnpj</th>\n",
              "      <th>raiz_cnpj</th>\n",
              "      <th>matriz_filial</th>\n",
              "      <th>razao_social</th>\n",
              "      <th>opcao_pelo_simples</th>\n",
              "      <th>capital_social</th>\n",
              "    </tr>\n",
              "  </thead>\n",
              "  <tbody>\n",
              "    <tr>\n",
              "      <th>10</th>\n",
              "      <td>841331000154</td>\n",
              "      <td>841331</td>\n",
              "      <td>MATRIZ</td>\n",
              "      <td>SOFTNEW SISTEMAS E CONSULTORIA EM INFORMATICA ...</td>\n",
              "      <td>SIM</td>\n",
              "      <td>15000</td>\n",
              "    </tr>\n",
              "    <tr>\n",
              "      <th>58</th>\n",
              "      <td>3842870000104</td>\n",
              "      <td>3842870</td>\n",
              "      <td>MATRIZ</td>\n",
              "      <td>FERAWEB INFORMATICA LTDA</td>\n",
              "      <td>NAO</td>\n",
              "      <td>15000</td>\n",
              "    </tr>\n",
              "    <tr>\n",
              "      <th>125</th>\n",
              "      <td>6153856000183</td>\n",
              "      <td>6153856</td>\n",
              "      <td>MATRIZ</td>\n",
              "      <td>ISOLVE - SOLUCOES EM INFORMATICA LTDA</td>\n",
              "      <td>SIM</td>\n",
              "      <td>15000</td>\n",
              "    </tr>\n",
              "    <tr>\n",
              "      <th>131</th>\n",
              "      <td>6913250000107</td>\n",
              "      <td>6913250</td>\n",
              "      <td>MATRIZ</td>\n",
              "      <td>A. D. TURRI TECNOLOGIA</td>\n",
              "      <td>SIM</td>\n",
              "      <td>12000</td>\n",
              "    </tr>\n",
              "    <tr>\n",
              "      <th>190</th>\n",
              "      <td>9401653000157</td>\n",
              "      <td>9401653</td>\n",
              "      <td>MATRIZ</td>\n",
              "      <td>R.J.D. CONSULTORIA E TECNOLOGIA PARA NEGOCIOS ...</td>\n",
              "      <td>NAO</td>\n",
              "      <td>16666</td>\n",
              "    </tr>\n",
              "    <tr>\n",
              "      <th>205</th>\n",
              "      <td>10353834000134</td>\n",
              "      <td>10353834</td>\n",
              "      <td>MATRIZ</td>\n",
              "      <td>GE DIGITAL DO BRASIL SERVICOS EM INFORMATICA L...</td>\n",
              "      <td>NAO</td>\n",
              "      <td>17000</td>\n",
              "    </tr>\n",
              "    <tr>\n",
              "      <th>232</th>\n",
              "      <td>10882234000163</td>\n",
              "      <td>10882234</td>\n",
              "      <td>MATRIZ</td>\n",
              "      <td>ELITE TRADER ASSESSORIA E CONSULTORIA EMPRESAR...</td>\n",
              "      <td>SIM</td>\n",
              "      <td>15000</td>\n",
              "    </tr>\n",
              "    <tr>\n",
              "      <th>281</th>\n",
              "      <td>13994051000128</td>\n",
              "      <td>13994051</td>\n",
              "      <td>MATRIZ</td>\n",
              "      <td>GOLIVE CONSULTORIA LTDA</td>\n",
              "      <td>SIM</td>\n",
              "      <td>13500</td>\n",
              "    </tr>\n",
              "    <tr>\n",
              "      <th>327</th>\n",
              "      <td>17915726000157</td>\n",
              "      <td>17915726</td>\n",
              "      <td>MATRIZ</td>\n",
              "      <td>SMARTI CONSULTORIA E SERVICOS DE TI LTDA</td>\n",
              "      <td>SIM</td>\n",
              "      <td>12000</td>\n",
              "    </tr>\n",
              "    <tr>\n",
              "      <th>354</th>\n",
              "      <td>20925274000107</td>\n",
              "      <td>20925274</td>\n",
              "      <td>MATRIZ</td>\n",
              "      <td>TRUE WORK CONSULTORIA E DESENVOLVIMENTO DE SIS...</td>\n",
              "      <td>NAO</td>\n",
              "      <td>15000</td>\n",
              "    </tr>\n",
              "    <tr>\n",
              "      <th>379</th>\n",
              "      <td>22516315000129</td>\n",
              "      <td>22516315</td>\n",
              "      <td>MATRIZ</td>\n",
              "      <td>EGROUP CONSULTORIA EM TECNOLOGIA DA INFORMACAO...</td>\n",
              "      <td>NAO</td>\n",
              "      <td>15000</td>\n",
              "    </tr>\n",
              "    <tr>\n",
              "      <th>404</th>\n",
              "      <td>24582772000147</td>\n",
              "      <td>24582772</td>\n",
              "      <td>MATRIZ</td>\n",
              "      <td>GOI &amp; PEREZ CONSULTORIA, SERVICOS, VENDAS E LO...</td>\n",
              "      <td>NAO</td>\n",
              "      <td>15000</td>\n",
              "    </tr>\n",
              "    <tr>\n",
              "      <th>407</th>\n",
              "      <td>24642438000131</td>\n",
              "      <td>24642438</td>\n",
              "      <td>MATRIZ</td>\n",
              "      <td>ALF CONSULTORIA LTDA</td>\n",
              "      <td>NAO</td>\n",
              "      <td>15000</td>\n",
              "    </tr>\n",
              "    <tr>\n",
              "      <th>418</th>\n",
              "      <td>25341444000111</td>\n",
              "      <td>25341444</td>\n",
              "      <td>MATRIZ</td>\n",
              "      <td>CORE SOLUTIONS - AUTOMACAO TECNOLOGICA LTDA</td>\n",
              "      <td>SIM</td>\n",
              "      <td>13000</td>\n",
              "    </tr>\n",
              "    <tr>\n",
              "      <th>449</th>\n",
              "      <td>27481416000125</td>\n",
              "      <td>27481416</td>\n",
              "      <td>MATRIZ</td>\n",
              "      <td>WLAN REDES SEM FIO SERVICOS EM TECNOLOGIA LTDA</td>\n",
              "      <td>SIM</td>\n",
              "      <td>15000</td>\n",
              "    </tr>\n",
              "    <tr>\n",
              "      <th>467</th>\n",
              "      <td>28341460000100</td>\n",
              "      <td>28341460</td>\n",
              "      <td>MATRIZ</td>\n",
              "      <td>CDC TECNOLOGIA LTDA</td>\n",
              "      <td>NAO</td>\n",
              "      <td>12000</td>\n",
              "    </tr>\n",
              "    <tr>\n",
              "      <th>477</th>\n",
              "      <td>29116537000101</td>\n",
              "      <td>29116537</td>\n",
              "      <td>MATRIZ</td>\n",
              "      <td>BEXPO TRANSFORMACAO E INOVACAO LTDA</td>\n",
              "      <td>SIM</td>\n",
              "      <td>12000</td>\n",
              "    </tr>\n",
              "    <tr>\n",
              "      <th>501</th>\n",
              "      <td>29920323000185</td>\n",
              "      <td>29920323</td>\n",
              "      <td>MATRIZ</td>\n",
              "      <td>TOLFO &amp; KRABBE INFORMATICA LTDA</td>\n",
              "      <td>SIM</td>\n",
              "      <td>12000</td>\n",
              "    </tr>\n",
              "    <tr>\n",
              "      <th>502</th>\n",
              "      <td>29920563000180</td>\n",
              "      <td>29920563</td>\n",
              "      <td>MATRIZ</td>\n",
              "      <td>DPC CONSULTORIA LTDA</td>\n",
              "      <td>NAO</td>\n",
              "      <td>12000</td>\n",
              "    </tr>\n",
              "    <tr>\n",
              "      <th>535</th>\n",
              "      <td>31168095000180</td>\n",
              "      <td>31168095</td>\n",
              "      <td>MATRIZ</td>\n",
              "      <td>BIM START SERVICOS TECNOLOGICOS LTDA.</td>\n",
              "      <td>NAO</td>\n",
              "      <td>15000</td>\n",
              "    </tr>\n",
              "    <tr>\n",
              "      <th>587</th>\n",
              "      <td>33899321000129</td>\n",
              "      <td>33899321</td>\n",
              "      <td>MATRIZ</td>\n",
              "      <td>DOMINUS ASSESSORIA E CONSULTORIA EM TI LTDA</td>\n",
              "      <td>SIM</td>\n",
              "      <td>12000</td>\n",
              "    </tr>\n",
              "    <tr>\n",
              "      <th>609</th>\n",
              "      <td>34829222000133</td>\n",
              "      <td>34829222</td>\n",
              "      <td>MATRIZ</td>\n",
              "      <td>SHERPA SOLUCOES EM SISTEMAS DE INFORMACAO LTDA</td>\n",
              "      <td>SIM</td>\n",
              "      <td>15000</td>\n",
              "    </tr>\n",
              "    <tr>\n",
              "      <th>616</th>\n",
              "      <td>35118515000175</td>\n",
              "      <td>35118515</td>\n",
              "      <td>MATRIZ</td>\n",
              "      <td>PLYS SERVICOS DE TECNOLOGIA LTDA</td>\n",
              "      <td>SIM</td>\n",
              "      <td>15000</td>\n",
              "    </tr>\n",
              "    <tr>\n",
              "      <th>698</th>\n",
              "      <td>38731500000176</td>\n",
              "      <td>38731500</td>\n",
              "      <td>MATRIZ</td>\n",
              "      <td>ACTA TECH SERVICOS DE CONSULTORIA EM TECNOLOGI...</td>\n",
              "      <td>SIM</td>\n",
              "      <td>12000</td>\n",
              "    </tr>\n",
              "    <tr>\n",
              "      <th>719</th>\n",
              "      <td>40240560000138</td>\n",
              "      <td>40240560</td>\n",
              "      <td>MATRIZ</td>\n",
              "      <td>C. GERLING</td>\n",
              "      <td>SIM</td>\n",
              "      <td>15000</td>\n",
              "    </tr>\n",
              "    <tr>\n",
              "      <th>721</th>\n",
              "      <td>40414919000146</td>\n",
              "      <td>40414919</td>\n",
              "      <td>MATRIZ</td>\n",
              "      <td>MADATECH SERVICOS DIGITAIS LTDA</td>\n",
              "      <td>NAO</td>\n",
              "      <td>15000</td>\n",
              "    </tr>\n",
              "    <tr>\n",
              "      <th>746</th>\n",
              "      <td>41138337000147</td>\n",
              "      <td>41138337</td>\n",
              "      <td>MATRIZ</td>\n",
              "      <td>GLA. SOLUTIONS LTDA</td>\n",
              "      <td>SIM</td>\n",
              "      <td>15000</td>\n",
              "    </tr>\n",
              "    <tr>\n",
              "      <th>760</th>\n",
              "      <td>79850954000143</td>\n",
              "      <td>79850954</td>\n",
              "      <td>MATRIZ</td>\n",
              "      <td>E.R.B.INFORMATICA LTDA</td>\n",
              "      <td>NAO</td>\n",
              "      <td>12000</td>\n",
              "    </tr>\n",
              "  </tbody>\n",
              "</table>\n",
              "</div>"
            ],
            "text/plain": [
              "               cnpj  raiz_cnpj  ... opcao_pelo_simples capital_social\n",
              "10     841331000154     841331  ...                SIM          15000\n",
              "58    3842870000104    3842870  ...                NAO          15000\n",
              "125   6153856000183    6153856  ...                SIM          15000\n",
              "131   6913250000107    6913250  ...                SIM          12000\n",
              "190   9401653000157    9401653  ...                NAO          16666\n",
              "205  10353834000134   10353834  ...                NAO          17000\n",
              "232  10882234000163   10882234  ...                SIM          15000\n",
              "281  13994051000128   13994051  ...                SIM          13500\n",
              "327  17915726000157   17915726  ...                SIM          12000\n",
              "354  20925274000107   20925274  ...                NAO          15000\n",
              "379  22516315000129   22516315  ...                NAO          15000\n",
              "404  24582772000147   24582772  ...                NAO          15000\n",
              "407  24642438000131   24642438  ...                NAO          15000\n",
              "418  25341444000111   25341444  ...                SIM          13000\n",
              "449  27481416000125   27481416  ...                SIM          15000\n",
              "467  28341460000100   28341460  ...                NAO          12000\n",
              "477  29116537000101   29116537  ...                SIM          12000\n",
              "501  29920323000185   29920323  ...                SIM          12000\n",
              "502  29920563000180   29920563  ...                NAO          12000\n",
              "535  31168095000180   31168095  ...                NAO          15000\n",
              "587  33899321000129   33899321  ...                SIM          12000\n",
              "609  34829222000133   34829222  ...                SIM          15000\n",
              "616  35118515000175   35118515  ...                SIM          15000\n",
              "698  38731500000176   38731500  ...                SIM          12000\n",
              "719  40240560000138   40240560  ...                SIM          15000\n",
              "721  40414919000146   40414919  ...                NAO          15000\n",
              "746  41138337000147   41138337  ...                SIM          15000\n",
              "760  79850954000143   79850954  ...                NAO          12000\n",
              "\n",
              "[28 rows x 6 columns]"
            ]
          },
          "metadata": {
            "tags": []
          },
          "execution_count": 8
        }
      ]
    },
    {
      "cell_type": "markdown",
      "metadata": {
        "id": "vQvG9WTQJRys"
      },
      "source": [
        "EXTRA: Leia o arquivo \"DadosEndereco.csv\" "
      ]
    },
    {
      "cell_type": "code",
      "metadata": {
        "id": "RcR0uB-VIFXs"
      },
      "source": [
        "dadosEndereco = pd.read_csv('/content/drive/My Drive/driva/DadosEndereco.csv')"
      ],
      "execution_count": 9,
      "outputs": []
    },
    {
      "cell_type": "code",
      "metadata": {
        "colab": {
          "base_uri": "https://localhost:8080/",
          "height": 204
        },
        "id": "6tk_31H-K3pk",
        "outputId": "463f4939-549e-4357-d8e1-32dccad4c35e"
      },
      "source": [
        "dadosEndereco.head(5)"
      ],
      "execution_count": 10,
      "outputs": [
        {
          "output_type": "execute_result",
          "data": {
            "text/html": [
              "<div>\n",
              "<style scoped>\n",
              "    .dataframe tbody tr th:only-of-type {\n",
              "        vertical-align: middle;\n",
              "    }\n",
              "\n",
              "    .dataframe tbody tr th {\n",
              "        vertical-align: top;\n",
              "    }\n",
              "\n",
              "    .dataframe thead th {\n",
              "        text-align: right;\n",
              "    }\n",
              "</style>\n",
              "<table border=\"1\" class=\"dataframe\">\n",
              "  <thead>\n",
              "    <tr style=\"text-align: right;\">\n",
              "      <th></th>\n",
              "      <th>cnpj</th>\n",
              "      <th>bairro</th>\n",
              "      <th>municipio</th>\n",
              "    </tr>\n",
              "  </thead>\n",
              "  <tbody>\n",
              "    <tr>\n",
              "      <th>0</th>\n",
              "      <td>126195000110</td>\n",
              "      <td>BIGORRILHO</td>\n",
              "      <td>CURITIBA</td>\n",
              "    </tr>\n",
              "    <tr>\n",
              "      <th>1</th>\n",
              "      <td>155991000181</td>\n",
              "      <td>CENTRO</td>\n",
              "      <td>LAPA</td>\n",
              "    </tr>\n",
              "    <tr>\n",
              "      <th>2</th>\n",
              "      <td>321106000197</td>\n",
              "      <td>PRIMAVERA</td>\n",
              "      <td>NOVO HAMBURGO</td>\n",
              "    </tr>\n",
              "    <tr>\n",
              "      <th>3</th>\n",
              "      <td>358376000172</td>\n",
              "      <td>SAO PELEGRINO</td>\n",
              "      <td>CAXIAS DO SUL</td>\n",
              "    </tr>\n",
              "    <tr>\n",
              "      <th>4</th>\n",
              "      <td>563375000160</td>\n",
              "      <td>CENTRO</td>\n",
              "      <td>TRES COROAS</td>\n",
              "    </tr>\n",
              "  </tbody>\n",
              "</table>\n",
              "</div>"
            ],
            "text/plain": [
              "           cnpj         bairro      municipio\n",
              "0  126195000110     BIGORRILHO       CURITIBA\n",
              "1  155991000181         CENTRO           LAPA\n",
              "2  321106000197      PRIMAVERA  NOVO HAMBURGO\n",
              "3  358376000172  SAO PELEGRINO  CAXIAS DO SUL\n",
              "4  563375000160         CENTRO    TRES COROAS"
            ]
          },
          "metadata": {
            "tags": []
          },
          "execution_count": 10
        }
      ]
    },
    {
      "cell_type": "markdown",
      "metadata": {
        "id": "23kUXZkGJYqT"
      },
      "source": [
        "EXTRA: Faça um merge entre os dois arquivos pela coluna \"cnpj\""
      ]
    },
    {
      "cell_type": "code",
      "metadata": {
        "id": "3YNUi_ePJRiY"
      },
      "source": [
        "dadosEmpresaEndereco = dadosEmpresa.merge(dadosEndereco, on = 'cnpj', how = 'left')"
      ],
      "execution_count": 11,
      "outputs": []
    },
    {
      "cell_type": "code",
      "metadata": {
        "colab": {
          "base_uri": "https://localhost:8080/",
          "height": 281
        },
        "id": "H4ZXZeeOKuHZ",
        "outputId": "0a710e82-5aac-4790-f3fe-7aa7e60deb22"
      },
      "source": [
        "dadosEmpresaEndereco.head(3)"
      ],
      "execution_count": 27,
      "outputs": [
        {
          "output_type": "execute_result",
          "data": {
            "text/html": [
              "<div>\n",
              "<style scoped>\n",
              "    .dataframe tbody tr th:only-of-type {\n",
              "        vertical-align: middle;\n",
              "    }\n",
              "\n",
              "    .dataframe tbody tr th {\n",
              "        vertical-align: top;\n",
              "    }\n",
              "\n",
              "    .dataframe thead th {\n",
              "        text-align: right;\n",
              "    }\n",
              "</style>\n",
              "<table border=\"1\" class=\"dataframe\">\n",
              "  <thead>\n",
              "    <tr style=\"text-align: right;\">\n",
              "      <th></th>\n",
              "      <th>cnpj</th>\n",
              "      <th>raiz_cnpj</th>\n",
              "      <th>matriz_filial</th>\n",
              "      <th>razao_social</th>\n",
              "      <th>opcao_pelo_simples</th>\n",
              "      <th>capital_social</th>\n",
              "      <th>bairro</th>\n",
              "      <th>municipio</th>\n",
              "    </tr>\n",
              "  </thead>\n",
              "  <tbody>\n",
              "    <tr>\n",
              "      <th>0</th>\n",
              "      <td>126195000110</td>\n",
              "      <td>126195</td>\n",
              "      <td>MATRIZ</td>\n",
              "      <td>TRAMA SOFTWARE LTDA</td>\n",
              "      <td>NAO</td>\n",
              "      <td>0</td>\n",
              "      <td>BIGORRILHO</td>\n",
              "      <td>CURITIBA</td>\n",
              "    </tr>\n",
              "    <tr>\n",
              "      <th>1</th>\n",
              "      <td>155991000181</td>\n",
              "      <td>155991</td>\n",
              "      <td>MATRIZ</td>\n",
              "      <td>ELEKTI - APOIO A EDUCACAO E FORNECIMENTO DE BO...</td>\n",
              "      <td>NAO</td>\n",
              "      <td>40000</td>\n",
              "      <td>CENTRO</td>\n",
              "      <td>LAPA</td>\n",
              "    </tr>\n",
              "    <tr>\n",
              "      <th>2</th>\n",
              "      <td>321106000197</td>\n",
              "      <td>321106</td>\n",
              "      <td>MATRIZ</td>\n",
              "      <td>VIRTUAL TECNOLOGIA &amp; SERVICOS LTDA</td>\n",
              "      <td>NAO</td>\n",
              "      <td>5000</td>\n",
              "      <td>PRIMAVERA</td>\n",
              "      <td>NOVO HAMBURGO</td>\n",
              "    </tr>\n",
              "  </tbody>\n",
              "</table>\n",
              "</div>"
            ],
            "text/plain": [
              "           cnpj  raiz_cnpj  ...      bairro      municipio\n",
              "0  126195000110     126195  ...  BIGORRILHO       CURITIBA\n",
              "1  155991000181     155991  ...      CENTRO           LAPA\n",
              "2  321106000197     321106  ...   PRIMAVERA  NOVO HAMBURGO\n",
              "\n",
              "[3 rows x 8 columns]"
            ]
          },
          "metadata": {
            "tags": []
          },
          "execution_count": 27
        }
      ]
    },
    {
      "cell_type": "code",
      "metadata": {
        "id": "BK6l5Z4RHadn"
      },
      "source": [
        "dadosEmpresaEnderecoCuritiba = dadosEmpresaEndereco.query('municipio == \"CURITIBA\"')"
      ],
      "execution_count": 17,
      "outputs": []
    },
    {
      "cell_type": "code",
      "metadata": {
        "colab": {
          "base_uri": "https://localhost:8080/",
          "height": 298
        },
        "id": "v_4KK9v_KdtH",
        "outputId": "70651a41-6da7-4be0-81c3-b3068c1c8120"
      },
      "source": [
        "dadosEmpresaEnderecoCuritiba.head(3)"
      ],
      "execution_count": 28,
      "outputs": [
        {
          "output_type": "execute_result",
          "data": {
            "text/html": [
              "<div>\n",
              "<style scoped>\n",
              "    .dataframe tbody tr th:only-of-type {\n",
              "        vertical-align: middle;\n",
              "    }\n",
              "\n",
              "    .dataframe tbody tr th {\n",
              "        vertical-align: top;\n",
              "    }\n",
              "\n",
              "    .dataframe thead th {\n",
              "        text-align: right;\n",
              "    }\n",
              "</style>\n",
              "<table border=\"1\" class=\"dataframe\">\n",
              "  <thead>\n",
              "    <tr style=\"text-align: right;\">\n",
              "      <th></th>\n",
              "      <th>cnpj</th>\n",
              "      <th>raiz_cnpj</th>\n",
              "      <th>matriz_filial</th>\n",
              "      <th>razao_social</th>\n",
              "      <th>opcao_pelo_simples</th>\n",
              "      <th>capital_social</th>\n",
              "      <th>bairro</th>\n",
              "      <th>municipio</th>\n",
              "    </tr>\n",
              "  </thead>\n",
              "  <tbody>\n",
              "    <tr>\n",
              "      <th>0</th>\n",
              "      <td>126195000110</td>\n",
              "      <td>126195</td>\n",
              "      <td>MATRIZ</td>\n",
              "      <td>TRAMA SOFTWARE LTDA</td>\n",
              "      <td>NAO</td>\n",
              "      <td>0</td>\n",
              "      <td>BIGORRILHO</td>\n",
              "      <td>CURITIBA</td>\n",
              "    </tr>\n",
              "    <tr>\n",
              "      <th>6</th>\n",
              "      <td>587384000190</td>\n",
              "      <td>587384</td>\n",
              "      <td>MATRIZ</td>\n",
              "      <td>INOVATIVA INFORMATICA LTDA</td>\n",
              "      <td>SIM</td>\n",
              "      <td>0</td>\n",
              "      <td>BACACHERI</td>\n",
              "      <td>CURITIBA</td>\n",
              "    </tr>\n",
              "    <tr>\n",
              "      <th>8</th>\n",
              "      <td>714851000104</td>\n",
              "      <td>714851</td>\n",
              "      <td>MATRIZ</td>\n",
              "      <td>MKT SERVICOS DE MARKETING E TECNOLOGIA - EIRELI</td>\n",
              "      <td>NAO</td>\n",
              "      <td>320000</td>\n",
              "      <td>CENTRO CIVICO</td>\n",
              "      <td>CURITIBA</td>\n",
              "    </tr>\n",
              "  </tbody>\n",
              "</table>\n",
              "</div>"
            ],
            "text/plain": [
              "           cnpj  raiz_cnpj  ...         bairro municipio\n",
              "0  126195000110     126195  ...     BIGORRILHO  CURITIBA\n",
              "6  587384000190     587384  ...      BACACHERI  CURITIBA\n",
              "8  714851000104     714851  ...  CENTRO CIVICO  CURITIBA\n",
              "\n",
              "[3 rows x 8 columns]"
            ]
          },
          "metadata": {
            "tags": []
          },
          "execution_count": 28
        }
      ]
    },
    {
      "cell_type": "markdown",
      "metadata": {
        "id": "Z6f4s0R5K_Z1"
      },
      "source": [
        "salve um arquivo CSV com todas as empresas que são de \"CURITIBA\";"
      ]
    },
    {
      "cell_type": "code",
      "metadata": {
        "id": "sCLqhMtELIJ2"
      },
      "source": [
        "dadosEmpresaEnderecoCuritiba.to_csv('dadosEmpresaEnderecoCuritiba.csv', sep = ';', decimal = ',', index = False)"
      ],
      "execution_count": 29,
      "outputs": []
    }
  ]
}